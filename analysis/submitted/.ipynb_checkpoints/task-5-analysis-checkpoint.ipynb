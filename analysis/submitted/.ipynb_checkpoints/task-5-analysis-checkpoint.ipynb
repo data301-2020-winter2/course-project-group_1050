{
 "cells": [
  {
   "cell_type": "markdown",
   "id": "swiss-majority",
   "metadata": {},
   "source": [
    "# Task 5 - Data Analysis"
   ]
  },
  {
   "cell_type": "markdown",
   "id": "weighted-possible",
   "metadata": {},
   "source": [
    "- Data analysis of our [data set](https://archive.ics.uci.edu/ml/datasets/Air+Quality) where we will begin to answer the following research questions.\n",
    "\n",
    "1. What times of day have the highest (and lowest) air pollution?\n",
    "\n",
    "2. Why do the two Tungsten Oxides (NOx and NO2) have such a negative correlation?\n",
    "\n",
    "3. What are the seasons where air pollution is high and low?\n"
   ]
  },
  {
   "cell_type": "code",
   "execution_count": null,
   "id": "significant-keeping",
   "metadata": {},
   "outputs": [],
   "source": [
    "# load data\n",
    "import os\n",
    "import pandas as pd\n",
    "import numpy as np\n",
    "import seaborn as sns\n",
    "import matplotlib.pyplot as plt\n",
    "path_parent = os.path.dirname(os.getcwd())\n",
    "os.chdir(path_parent)\n",
    "print(os.getcwd())\n",
    "from thierry.project_functions import load_and_process \n",
    "df = load_and_process('https://raw.githubusercontent.com/data301-2020-winter2/course-project-group_1050/main/data/raw/AirQualityUCI.csv')"
   ]
  },
  {
   "cell_type": "markdown",
   "id": "younger-british",
   "metadata": {},
   "source": [
    "### 1. What times of day have the highest (and lowest) air pollution"
   ]
  },
  {
   "cell_type": "code",
   "execution_count": null,
   "id": "final-wings",
   "metadata": {},
   "outputs": [],
   "source": [
    "## time_df gets the mean of each column for each time of measurement (hourly)\n",
    "time_df = df.groupby('Time').mean()\n",
    "time_df = time_df.reset_index()\n",
    "time_df.head()"
   ]
  },
  {
   "cell_type": "code",
   "execution_count": null,
   "id": "motivated-southwest",
   "metadata": {},
   "outputs": [],
   "source": [
    "sns.set(rc={'figure.figsize':(50,20)})\n",
    "time_plot = sns.lineplot(x='Time',\n",
    "            y='value',\n",
    "            hue='variable',  \n",
    "            linewidth=5,\n",
    "            data= pd.melt(time_df, ['Time']))\n",
    "time_plot.axes.set_title('Mean Hourly Airbourne Metallic Oxides', fontsize=50)\n",
    "time_plot.set_xlabel('Time of Day', fontsize=40)\n",
    "time_plot.set_ylabel('Metal Oxide Values', fontsize=40)\n",
    "time_plot.tick_params(labelsize=20)\n",
    "plt.legend(bbox_to_anchor=(1.05, 1), loc=2, borderaxespad=0.)\n",
    "time_plot\n",
    "\n"
   ]
  },
  {
   "cell_type": "markdown",
   "id": "massive-toilet",
   "metadata": {},
   "source": [
    "*Time plot analysis* -- There are two obvious peaks in airbourne metal oxides: between 7 and 10 AM, and between 5 and 9 PM. This is most likely due to increase commuter activity during rush hours. There is also a low between 4 and 5 AM."
   ]
  },
  {
   "cell_type": "markdown",
   "id": "governing-surprise",
   "metadata": {},
   "source": [
    "### 2. Why do the two Tungsten Oxides have such a negative correlation"
   ]
  },
  {
   "cell_type": "code",
   "execution_count": null,
   "id": "competent-scheme",
   "metadata": {},
   "outputs": [],
   "source": [
    "tungsten_data = pd.DataFrame({'Temperature (C)':df['Temperature (C)'],\n",
    "                             'Tungsten Oxide (NOx)':df['Tungsten Oxide (NOx)'],\n",
    "                             'Tungsten Oxide (NO2)':df['Tungsten Oxide (NO2)']})\n",
    "tungsten_data.head()"
   ]
  },
  {
   "cell_type": "code",
   "execution_count": null,
   "id": "sixth-northeast",
   "metadata": {},
   "outputs": [],
   "source": [
    "\n",
    "sns.lineplot(x='Temperature (C)',\n",
    "            y='value',\n",
    "            hue='variable',\n",
    "            data= pd.melt(tungsten_data, ['Temperature (C)']))"
   ]
  },
  {
   "cell_type": "markdown",
   "id": "found-falls",
   "metadata": {},
   "source": [
    "*Tungsten Oxide Analysis* -- There is a crossover point at approximately 4 degrees celcius where Tungsten Oxide (NO2) becomes more abundant above the threshold, where Tungsten Oxide (NOx) levels are higher below the threshold. The Nitrogen Oxide compound that Tungsten reacts with must be dependent on temperature."
   ]
  },
  {
   "cell_type": "markdown",
   "id": "acting-procurement",
   "metadata": {},
   "source": [
    "### 3. What are the seasons where air pollution is high and low?"
   ]
  },
  {
   "cell_type": "code",
   "execution_count": null,
   "id": "stock-terry",
   "metadata": {},
   "outputs": [],
   "source": [
    "date_df = df.groupby('Date').mean()\n",
    "date_df = date_df.reset_index()\n",
    "date_df.head()"
   ]
  },
  {
   "cell_type": "code",
   "execution_count": null,
   "id": "single-joyce",
   "metadata": {},
   "outputs": [],
   "source": [
    "date_plot = sns.lineplot(x='Date',\n",
    "            y='value',\n",
    "            hue='variable',  \n",
    "            linewidth=5,\n",
    "            data= pd.melt(date_df, ['Date']))\n",
    "date_plot.axes.set_title('Mean Daily Airbourne Metallic Oxides', fontsize=50)\n",
    "date_plot.set_xlabel('Date', fontsize=40)\n",
    "date_plot.set_ylabel('Metal Oxide Values', fontsize=40)\n",
    "date_plot.tick_params(labelsize=20)\n",
    "plt.legend(bbox_to_anchor=(1.05, 1), loc=2, borderaxespad=0.)\n",
    "date_plot"
   ]
  },
  {
   "cell_type": "code",
   "execution_count": null,
   "id": "trying-sherman",
   "metadata": {},
   "outputs": [],
   "source": [
    "*Date plot analysis* -- analysis goes here"
   ]
  }
 ],
 "metadata": {
  "kernelspec": {
   "display_name": "Python 3",
   "language": "python",
   "name": "python3"
  },
  "language_info": {
   "codemirror_mode": {
    "name": "ipython",
    "version": 3
   },
   "file_extension": ".py",
   "mimetype": "text/x-python",
   "name": "python",
   "nbconvert_exporter": "python",
   "pygments_lexer": "ipython3",
   "version": "3.8.5"
  }
 },
 "nbformat": 4,
 "nbformat_minor": 5
}
