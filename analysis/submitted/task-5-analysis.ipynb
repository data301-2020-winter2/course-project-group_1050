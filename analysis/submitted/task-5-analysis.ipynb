{
 "cells": [
  {
   "cell_type": "markdown",
   "id": "third-quarterly",
   "metadata": {},
   "source": [
    "# Task 5 - Data Analysis"
   ]
  },
  {
   "cell_type": "markdown",
   "id": "certain-deputy",
   "metadata": {},
   "source": [
    "- Data analysis of our [data set](https://archive.ics.uci.edu/ml/datasets/Air+Quality) where we will begin to answer the following research questions.\n",
    "\n",
    "1. What times of day have the highest (and lowest) air pollution?\n",
    "\n",
    "2. Why do the two Tungsten Oxides (NOx and NO2) have such a negative correlation?\n"
   ]
  },
  {
   "cell_type": "code",
   "execution_count": 1,
   "id": "speaking-level",
   "metadata": {},
   "outputs": [
    {
     "name": "stdout",
     "output_type": "stream",
     "text": [
      "C:\\Users\\ryan\\Desktop\\301 git\\course-project-group_1050\\analysis\n"
     ]
    },
    {
     "ename": "KeyError",
     "evalue": "'CO(GT)'",
     "output_type": "error",
     "traceback": [
      "\u001b[1;31m---------------------------------------------------------------------------\u001b[0m",
      "\u001b[1;31mKeyError\u001b[0m                                  Traceback (most recent call last)",
      "\u001b[1;32m~\\miniconda3\\lib\\site-packages\\pandas\\core\\indexes\\base.py\u001b[0m in \u001b[0;36mget_loc\u001b[1;34m(self, key, method, tolerance)\u001b[0m\n\u001b[0;32m   3079\u001b[0m             \u001b[1;32mtry\u001b[0m\u001b[1;33m:\u001b[0m\u001b[1;33m\u001b[0m\u001b[1;33m\u001b[0m\u001b[0m\n\u001b[1;32m-> 3080\u001b[1;33m                 \u001b[1;32mreturn\u001b[0m \u001b[0mself\u001b[0m\u001b[1;33m.\u001b[0m\u001b[0m_engine\u001b[0m\u001b[1;33m.\u001b[0m\u001b[0mget_loc\u001b[0m\u001b[1;33m(\u001b[0m\u001b[0mcasted_key\u001b[0m\u001b[1;33m)\u001b[0m\u001b[1;33m\u001b[0m\u001b[1;33m\u001b[0m\u001b[0m\n\u001b[0m\u001b[0;32m   3081\u001b[0m             \u001b[1;32mexcept\u001b[0m \u001b[0mKeyError\u001b[0m \u001b[1;32mas\u001b[0m \u001b[0merr\u001b[0m\u001b[1;33m:\u001b[0m\u001b[1;33m\u001b[0m\u001b[1;33m\u001b[0m\u001b[0m\n",
      "\u001b[1;32mpandas\\_libs\\index.pyx\u001b[0m in \u001b[0;36mpandas._libs.index.IndexEngine.get_loc\u001b[1;34m()\u001b[0m\n",
      "\u001b[1;32mpandas\\_libs\\index.pyx\u001b[0m in \u001b[0;36mpandas._libs.index.IndexEngine.get_loc\u001b[1;34m()\u001b[0m\n",
      "\u001b[1;32mpandas\\_libs\\hashtable_class_helper.pxi\u001b[0m in \u001b[0;36mpandas._libs.hashtable.PyObjectHashTable.get_item\u001b[1;34m()\u001b[0m\n",
      "\u001b[1;32mpandas\\_libs\\hashtable_class_helper.pxi\u001b[0m in \u001b[0;36mpandas._libs.hashtable.PyObjectHashTable.get_item\u001b[1;34m()\u001b[0m\n",
      "\u001b[1;31mKeyError\u001b[0m: 'CO(GT)'",
      "\nThe above exception was the direct cause of the following exception:\n",
      "\u001b[1;31mKeyError\u001b[0m                                  Traceback (most recent call last)",
      "\u001b[1;32m<ipython-input-1-4bc5eae7c9fb>\u001b[0m in \u001b[0;36m<module>\u001b[1;34m\u001b[0m\n\u001b[0;32m     10\u001b[0m \u001b[0mprint\u001b[0m\u001b[1;33m(\u001b[0m\u001b[0mos\u001b[0m\u001b[1;33m.\u001b[0m\u001b[0mgetcwd\u001b[0m\u001b[1;33m(\u001b[0m\u001b[1;33m)\u001b[0m\u001b[1;33m)\u001b[0m\u001b[1;33m\u001b[0m\u001b[1;33m\u001b[0m\u001b[0m\n\u001b[0;32m     11\u001b[0m \u001b[1;32mfrom\u001b[0m \u001b[0mthierry\u001b[0m\u001b[1;33m.\u001b[0m\u001b[0mproject_functions\u001b[0m \u001b[1;32mimport\u001b[0m \u001b[0mload_and_process\u001b[0m\u001b[1;33m\u001b[0m\u001b[1;33m\u001b[0m\u001b[0m\n\u001b[1;32m---> 12\u001b[1;33m \u001b[0mdf\u001b[0m \u001b[1;33m=\u001b[0m \u001b[0mload_and_process\u001b[0m\u001b[1;33m(\u001b[0m\u001b[1;34m'https://raw.githubusercontent.com/data301-2020-winter2/course-project-group_1050/main/data/raw/AirQualityUCI.csv'\u001b[0m\u001b[1;33m)\u001b[0m\u001b[1;33m\u001b[0m\u001b[1;33m\u001b[0m\u001b[0m\n\u001b[0m",
      "\u001b[1;32m~\\Desktop\\301 git\\course-project-group_1050\\analysis\\thierry\\project_functions.py\u001b[0m in \u001b[0;36mload_and_process\u001b[1;34m(url)\u001b[0m\n\u001b[0;32m     28\u001b[0m     \u001b[0mtidier_data\u001b[0m \u001b[1;33m=\u001b[0m \u001b[0mraw_data\u001b[0m\u001b[1;33m.\u001b[0m\u001b[0mdropna\u001b[0m\u001b[1;33m(\u001b[0m\u001b[0maxis\u001b[0m\u001b[1;33m=\u001b[0m\u001b[1;36m1\u001b[0m\u001b[1;33m,\u001b[0m \u001b[0mhow\u001b[0m\u001b[1;33m=\u001b[0m\u001b[1;34m'all'\u001b[0m\u001b[1;33m)\u001b[0m\u001b[1;33m.\u001b[0m\u001b[0mdropna\u001b[0m\u001b[1;33m(\u001b[0m\u001b[0mhow\u001b[0m\u001b[1;33m=\u001b[0m\u001b[1;34m'all'\u001b[0m\u001b[1;33m)\u001b[0m\u001b[1;33m\u001b[0m\u001b[1;33m\u001b[0m\u001b[0m\n\u001b[0;32m     29\u001b[0m       \u001b[1;31m## replace values of -200 (specified as missing values) with NaN\u001b[0m\u001b[1;33m\u001b[0m\u001b[1;33m\u001b[0m\u001b[1;33m\u001b[0m\u001b[0m\n\u001b[1;32m---> 30\u001b[1;33m     \u001b[0mtidier_data\u001b[0m\u001b[1;33m[\u001b[0m\u001b[1;34m'CO(GT)'\u001b[0m\u001b[1;33m]\u001b[0m\u001b[1;33m.\u001b[0m\u001b[0mreplace\u001b[0m\u001b[1;33m(\u001b[0m\u001b[0mto_replace\u001b[0m\u001b[1;33m=\u001b[0m\u001b[1;33m-\u001b[0m\u001b[1;36m200\u001b[0m\u001b[1;33m,\u001b[0m \u001b[0mvalue\u001b[0m\u001b[1;33m=\u001b[0m\u001b[0mnp\u001b[0m\u001b[1;33m.\u001b[0m\u001b[0mNaN\u001b[0m\u001b[1;33m,\u001b[0m \u001b[0minplace\u001b[0m\u001b[1;33m=\u001b[0m\u001b[1;32mTrue\u001b[0m\u001b[1;33m)\u001b[0m\u001b[1;33m\u001b[0m\u001b[1;33m\u001b[0m\u001b[0m\n\u001b[0m\u001b[0;32m     31\u001b[0m     \u001b[0mtidier_data\u001b[0m\u001b[1;33m[\u001b[0m\u001b[1;34m'PT08.S1(CO)'\u001b[0m\u001b[1;33m]\u001b[0m\u001b[1;33m.\u001b[0m\u001b[0mreplace\u001b[0m\u001b[1;33m(\u001b[0m\u001b[0mto_replace\u001b[0m\u001b[1;33m=\u001b[0m\u001b[1;33m-\u001b[0m\u001b[1;36m200\u001b[0m\u001b[1;33m,\u001b[0m \u001b[0mvalue\u001b[0m\u001b[1;33m=\u001b[0m\u001b[0mnp\u001b[0m\u001b[1;33m.\u001b[0m\u001b[0mNaN\u001b[0m\u001b[1;33m,\u001b[0m \u001b[0minplace\u001b[0m\u001b[1;33m=\u001b[0m\u001b[1;32mTrue\u001b[0m\u001b[1;33m)\u001b[0m\u001b[1;33m\u001b[0m\u001b[1;33m\u001b[0m\u001b[0m\n\u001b[0;32m     32\u001b[0m     \u001b[0mtidier_data\u001b[0m\u001b[1;33m[\u001b[0m\u001b[1;34m'NMHC(GT)'\u001b[0m\u001b[1;33m]\u001b[0m\u001b[1;33m.\u001b[0m\u001b[0mreplace\u001b[0m\u001b[1;33m(\u001b[0m\u001b[0mto_replace\u001b[0m\u001b[1;33m=\u001b[0m\u001b[1;33m-\u001b[0m\u001b[1;36m200\u001b[0m\u001b[1;33m,\u001b[0m \u001b[0mvalue\u001b[0m\u001b[1;33m=\u001b[0m\u001b[0mnp\u001b[0m\u001b[1;33m.\u001b[0m\u001b[0mNaN\u001b[0m\u001b[1;33m,\u001b[0m \u001b[0minplace\u001b[0m\u001b[1;33m=\u001b[0m\u001b[1;32mTrue\u001b[0m\u001b[1;33m)\u001b[0m\u001b[1;33m\u001b[0m\u001b[1;33m\u001b[0m\u001b[0m\n",
      "\u001b[1;32m~\\miniconda3\\lib\\site-packages\\pandas\\core\\frame.py\u001b[0m in \u001b[0;36m__getitem__\u001b[1;34m(self, key)\u001b[0m\n\u001b[0;32m   3022\u001b[0m             \u001b[1;32mif\u001b[0m \u001b[0mself\u001b[0m\u001b[1;33m.\u001b[0m\u001b[0mcolumns\u001b[0m\u001b[1;33m.\u001b[0m\u001b[0mnlevels\u001b[0m \u001b[1;33m>\u001b[0m \u001b[1;36m1\u001b[0m\u001b[1;33m:\u001b[0m\u001b[1;33m\u001b[0m\u001b[1;33m\u001b[0m\u001b[0m\n\u001b[0;32m   3023\u001b[0m                 \u001b[1;32mreturn\u001b[0m \u001b[0mself\u001b[0m\u001b[1;33m.\u001b[0m\u001b[0m_getitem_multilevel\u001b[0m\u001b[1;33m(\u001b[0m\u001b[0mkey\u001b[0m\u001b[1;33m)\u001b[0m\u001b[1;33m\u001b[0m\u001b[1;33m\u001b[0m\u001b[0m\n\u001b[1;32m-> 3024\u001b[1;33m             \u001b[0mindexer\u001b[0m \u001b[1;33m=\u001b[0m \u001b[0mself\u001b[0m\u001b[1;33m.\u001b[0m\u001b[0mcolumns\u001b[0m\u001b[1;33m.\u001b[0m\u001b[0mget_loc\u001b[0m\u001b[1;33m(\u001b[0m\u001b[0mkey\u001b[0m\u001b[1;33m)\u001b[0m\u001b[1;33m\u001b[0m\u001b[1;33m\u001b[0m\u001b[0m\n\u001b[0m\u001b[0;32m   3025\u001b[0m             \u001b[1;32mif\u001b[0m \u001b[0mis_integer\u001b[0m\u001b[1;33m(\u001b[0m\u001b[0mindexer\u001b[0m\u001b[1;33m)\u001b[0m\u001b[1;33m:\u001b[0m\u001b[1;33m\u001b[0m\u001b[1;33m\u001b[0m\u001b[0m\n\u001b[0;32m   3026\u001b[0m                 \u001b[0mindexer\u001b[0m \u001b[1;33m=\u001b[0m \u001b[1;33m[\u001b[0m\u001b[0mindexer\u001b[0m\u001b[1;33m]\u001b[0m\u001b[1;33m\u001b[0m\u001b[1;33m\u001b[0m\u001b[0m\n",
      "\u001b[1;32m~\\miniconda3\\lib\\site-packages\\pandas\\core\\indexes\\base.py\u001b[0m in \u001b[0;36mget_loc\u001b[1;34m(self, key, method, tolerance)\u001b[0m\n\u001b[0;32m   3080\u001b[0m                 \u001b[1;32mreturn\u001b[0m \u001b[0mself\u001b[0m\u001b[1;33m.\u001b[0m\u001b[0m_engine\u001b[0m\u001b[1;33m.\u001b[0m\u001b[0mget_loc\u001b[0m\u001b[1;33m(\u001b[0m\u001b[0mcasted_key\u001b[0m\u001b[1;33m)\u001b[0m\u001b[1;33m\u001b[0m\u001b[1;33m\u001b[0m\u001b[0m\n\u001b[0;32m   3081\u001b[0m             \u001b[1;32mexcept\u001b[0m \u001b[0mKeyError\u001b[0m \u001b[1;32mas\u001b[0m \u001b[0merr\u001b[0m\u001b[1;33m:\u001b[0m\u001b[1;33m\u001b[0m\u001b[1;33m\u001b[0m\u001b[0m\n\u001b[1;32m-> 3082\u001b[1;33m                 \u001b[1;32mraise\u001b[0m \u001b[0mKeyError\u001b[0m\u001b[1;33m(\u001b[0m\u001b[0mkey\u001b[0m\u001b[1;33m)\u001b[0m \u001b[1;32mfrom\u001b[0m \u001b[0merr\u001b[0m\u001b[1;33m\u001b[0m\u001b[1;33m\u001b[0m\u001b[0m\n\u001b[0m\u001b[0;32m   3083\u001b[0m \u001b[1;33m\u001b[0m\u001b[0m\n\u001b[0;32m   3084\u001b[0m         \u001b[1;32mif\u001b[0m \u001b[0mtolerance\u001b[0m \u001b[1;32mis\u001b[0m \u001b[1;32mnot\u001b[0m \u001b[1;32mNone\u001b[0m\u001b[1;33m:\u001b[0m\u001b[1;33m\u001b[0m\u001b[1;33m\u001b[0m\u001b[0m\n",
      "\u001b[1;31mKeyError\u001b[0m: 'CO(GT)'"
     ]
    }
   ],
   "source": [
    "# load data\n",
    "import os\n",
    "import pandas as pd\n",
    "import numpy as np\n",
    "import seaborn as sns\n",
    "import matplotlib.pyplot as plt\n",
    "path_parent = os.path.dirname(os.getcwd())\n",
    "os.chdir(path_parent)\n",
    "os.chdir(path_parent)\n",
    "print(os.getcwd())\n",
    "from thierry.project_functions import load_and_process \n",
    "df = load_and_process('https://raw.githubusercontent.com/data301-2020-winter2/course-project-group_1050/main/data/raw/AirQualityUCI.csv')"
   ]
  },
  {
   "cell_type": "markdown",
   "id": "dense-hayes",
   "metadata": {},
   "source": [
    "### 1. What times of day have the highest (and lowest) air pollution"
   ]
  },
  {
   "cell_type": "code",
   "execution_count": null,
   "id": "occupational-limitation",
   "metadata": {},
   "outputs": [],
   "source": [
    "## time_df gets the mean of each column for each time of measurement (hourly)\n",
    "time_df = df.groupby('Time').mean()\n",
    "time_df = time_df.reset_index()\n",
    "time_df.head()"
   ]
  },
  {
   "cell_type": "code",
   "execution_count": null,
   "id": "naughty-difference",
   "metadata": {},
   "outputs": [],
   "source": [
    "sns.set(rc={'figure.figsize':(50,20)})\n",
    "time_plot = sns.lineplot(x='Time',\n",
    "            y='value',\n",
    "            hue='variable',  \n",
    "            linewidth=5,\n",
    "            data= pd.melt(time_df, ['Time']))\n",
    "time_plot.axes.set_title('Mean Daily Airbourne Metallic Oxides', fontsize=50)\n",
    "time_plot.set_xlabel('Time of Day', fontsize=40)\n",
    "time_plot.set_ylabel('Metal Oxide Values', fontsize=40)\n",
    "time_plot.tick_params(labelsize=20)\n",
    "plt.legend(bbox_to_anchor=(1.05, 1), loc=2, borderaxespad=0.)\n",
    "time_plot\n",
    "\n"
   ]
  },
  {
   "cell_type": "markdown",
   "id": "african-ministry",
   "metadata": {},
   "source": [
    "*Time plot analysis*\n",
    "<br>\n",
    "There are two obvious peaks in airbourne metal oxides: between 7 and 10 AM, and between 5 and 9 PM. This is most likely due to increase commuter activity during rush hours. There is also a low between 4 and 5 AM."
   ]
  },
  {
   "cell_type": "markdown",
   "id": "joint-advice",
   "metadata": {},
   "source": [
    "### 2. Why do the two Tungsten Oxides have such a negative correlation"
   ]
  },
  {
   "cell_type": "code",
   "execution_count": null,
   "id": "incorporated-minority",
   "metadata": {},
   "outputs": [],
   "source": [
    "tungsten_data = pd.DataFrame({'Temperature (C)':df['Temperature (C)'],\n",
    "                             'Tungsten Oxide (NOx)':df['Tungsten Oxide (NOx)'],\n",
    "                             'Tungsten Oxide (NO2)':df['Tungsten Oxide (NO2)']})\n",
    "tungsten_data.head()"
   ]
  },
  {
   "cell_type": "code",
   "execution_count": null,
   "id": "subsequent-quest",
   "metadata": {},
   "outputs": [],
   "source": [
    "\n",
    "res = sns.lineplot(x='Temperature (C)',\n",
    "            y='value',\n",
    "            hue='variable',\n",
    "            data= pd.melt(tungsten_data, ['Temperature (C)']))\n",
    "res.set_xlabel(\"Temperature (C)\",fontsize=30)\n",
    "res.set_ylabel(\"Concentration\",fontsize=20)\n",
    "res.tick_params(labelsize=24)"
   ]
  },
  {
   "cell_type": "markdown",
   "id": "divine-transaction",
   "metadata": {},
   "source": [
    "*Tungsten Oxide Analysis* \n",
    "<br>\n",
    "As we can see tungsten NOX is high during low temps and as they climb tungsten NO2 overtakes it, however, is it due to temperature or other factors?"
   ]
  },
  {
   "cell_type": "code",
   "execution_count": null,
   "id": "lesser-breed",
   "metadata": {},
   "outputs": [],
   "source": [
    "df1 = df[['Temperature (C)', 'Tungsten Oxide (NO2)', 'Tungsten Oxide (NOx)']].copy()\n",
    "corr = df1.corr()# plot the heatmap\n",
    "res = sns.heatmap(corr, xticklabels=corr.columns, yticklabels=corr.columns, annot=True, cmap=sns.diverging_palette(250, 20, as_cmap=True))\n",
    "res.set_xticklabels(res.get_xmajorticklabels(), fontsize = 25)\n",
    "res.set_yticklabels(res.get_ymajorticklabels(), fontsize = 25)\n",
    "plt.title('Tunsgten correlation')\n",
    "\n",
    "           \n"
   ]
  },
  {
   "cell_type": "markdown",
   "id": "signed-brisbane",
   "metadata": {},
   "source": [
    "*Correlation analysis*\n",
    "<br>\n",
    "As we can see NO2 is has a moderate positive correlation to temperature, however, NOx has a weak negative correlation to temperature. However, they both have moderate negative correlations so maybe their concentrations are dependant on something else.\n",
    "<br>\n",
    "*__Could be__* \n",
    "- Time of the day?\n",
    "- Time of year?\n",
    "\n"
   ]
  },
  {
   "cell_type": "code",
   "execution_count": null,
   "id": "governing-election",
   "metadata": {},
   "outputs": [],
   "source": [
    "df2 = pd.DataFrame({'Time':df['Time'],\n",
    "                             'Tungsten Oxide (NOx)':df['Tungsten Oxide (NOx)'],\n",
    "                             'Tungsten Oxide (NO2)':df['Tungsten Oxide (NO2)']})\n",
    "res = sns.lineplot(x='Time',\n",
    "            y='value',\n",
    "            hue='variable',\n",
    "            data= pd.melt(df2, ['Time']))\n",
    "res.set_xlabel(\"X Label\",fontsize=30)\n",
    "res.set_ylabel(\"Y Label\",fontsize=20)\n",
    "res.set(xlabel='Time', ylabel='Concentration')\n",
    "res.tick_params(labelsize=24)\n"
   ]
  },
  {
   "cell_type": "markdown",
   "id": "composite-column",
   "metadata": {},
   "source": [
    "*Time analysis*\n",
    "<br>\n",
    "Nothing notable here besides the dip & increase between 0000 & 0800 but that most likely correlates to a temperature drop"
   ]
  },
  {
   "cell_type": "code",
   "execution_count": null,
   "id": "material-stake",
   "metadata": {},
   "outputs": [],
   "source": [
    "df2 = pd.DataFrame({'Time':df['Time'],\n",
    "                             'Temp':df['Temperature (C)']})\n",
    "res = sns.lineplot(x='Time',\n",
    "            y='value',\n",
    "            hue='variable',\n",
    "            data= pd.melt(df2, ['Time']))\n",
    "res.set_xlabel(\"X Label\",fontsize=30)\n",
    "res.set_ylabel(\"Y Label\",fontsize=20)\n",
    "res.set(xlabel='Time', ylabel='Concentration')\n",
    "res.tick_params(labelsize=24)"
   ]
  },
  {
   "cell_type": "markdown",
   "id": "private-blond",
   "metadata": {},
   "source": [
    "*Temp analysis*\n",
    "<br>\n",
    "as predicted above it is due to the temps dropping"
   ]
  },
  {
   "cell_type": "code",
   "execution_count": null,
   "id": "killing-warren",
   "metadata": {},
   "outputs": [],
   "source": [
    "\n",
    "df2 = pd.DataFrame({'Time':df['Time'],\n",
    "                             'Tungsten Oxide (NOx)':df['Tungsten Oxide (NOx)'],\n",
    "                             'Tungsten Oxide (NO2)':df['Tungsten Oxide (NO2)']})\n",
    "df2.insert(0, 'Count', range(0,len(df2)))\n",
    "\n",
    "df2.drop(labels='Time', axis =1)\n",
    "df2\n",
    "df2 = pd.DataFrame({'Count':df2['Count'],\n",
    "                             'Tungsten Oxide (NOx)':df2['Tungsten Oxide (NOx)'],\n",
    "                             'Tungsten Oxide (NO2)':df2['Tungsten Oxide (NO2)']})\n",
    "\n",
    "\n",
    "res = sns.lineplot(x='Count',\n",
    "            y='value',\n",
    "            hue='variable',\n",
    "            data= pd.melt(df2, ['Count']))\n",
    "res.set_xlabel(\"X Label\",fontsize=30)\n",
    "res.set_ylabel(\"Y Label\",fontsize=20)\n",
    "res.set(xlabel='Time', ylabel='Concentration')\n",
    "res.tick_params(labelsize=24)\n"
   ]
  },
  {
   "cell_type": "markdown",
   "id": "celtic-nebraska",
   "metadata": {},
   "source": [
    "*longterm trend analysis*\n",
    "<br>\n",
    "No distinctive changes throughout the year besides an overall dip near the end of the dataset"
   ]
  },
  {
   "cell_type": "code",
   "execution_count": null,
   "id": "mobile-junior",
   "metadata": {},
   "outputs": [],
   "source": []
  },
  {
   "cell_type": "code",
   "execution_count": null,
   "id": "protecting-queens",
   "metadata": {},
   "outputs": [],
   "source": []
  }
 ],
 "metadata": {
  "kernelspec": {
   "display_name": "Python 3",
   "language": "python",
   "name": "python3"
  },
  "language_info": {
   "codemirror_mode": {
    "name": "ipython",
    "version": 3
   },
   "file_extension": ".py",
   "mimetype": "text/x-python",
   "name": "python",
   "nbconvert_exporter": "python",
   "pygments_lexer": "ipython3",
   "version": "3.8.5"
  }
 },
 "nbformat": 4,
 "nbformat_minor": 5
}
