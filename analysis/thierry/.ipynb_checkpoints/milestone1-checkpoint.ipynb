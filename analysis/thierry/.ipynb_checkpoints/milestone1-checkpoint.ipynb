{
 "cells": [
  {
   "cell_type": "code",
   "execution_count": 12,
   "metadata": {},
   "outputs": [
    {
     "name": "stdout",
     "output_type": "stream",
     "text": [
      "         Date      Time CO(GT)  PT08.S1(CO)  NMHC(GT) C6H6(GT)  PT08.S2(NMHC)  \\\n",
      "0  10/03/2004  18.00.00    2,6       1360.0     150.0     11,9         1046.0   \n",
      "1  10/03/2004  19.00.00      2       1292.0     112.0      9,4          955.0   \n",
      "2  10/03/2004  20.00.00    2,2       1402.0      88.0      9,0          939.0   \n",
      "3  10/03/2004  21.00.00    2,2       1376.0      80.0      9,2          948.0   \n",
      "4  10/03/2004  22.00.00    1,6       1272.0      51.0      6,5          836.0   \n",
      "\n",
      "   NOx(GT)  PT08.S3(NOx)  NO2(GT)  PT08.S4(NO2)  PT08.S5(O3)     T    RH  \\\n",
      "0    166.0        1056.0    113.0        1692.0       1268.0  13,6  48,9   \n",
      "1    103.0        1174.0     92.0        1559.0        972.0  13,3  47,7   \n",
      "2    131.0        1140.0    114.0        1555.0       1074.0  11,9  54,0   \n",
      "3    172.0        1092.0    122.0        1584.0       1203.0  11,0  60,0   \n",
      "4    131.0        1205.0    116.0        1490.0       1110.0  11,2  59,6   \n",
      "\n",
      "       AH  Unnamed: 15  Unnamed: 16  \n",
      "0  0,7578          NaN          NaN  \n",
      "1  0,7255          NaN          NaN  \n",
      "2  0,7502          NaN          NaN  \n",
      "3  0,7867          NaN          NaN  \n",
      "4  0,7888          NaN          NaN  \n"
     ]
    }
   ],
   "source": [
    "import pandas \n",
    "\n",
    "url = 'https://raw.githubusercontent.com/data301-2020-winter2/course-project-group_1050/main/data/raw/AirQualityUCI.csv'\n",
    "\n",
    "air_quality = pandas.read_csv(url, sep=';')\n"
   ]
  },
  {
   "cell_type": "code",
   "execution_count": null,
   "metadata": {},
   "outputs": [],
   "source": []
  }
 ],
 "metadata": {
  "kernelspec": {
   "display_name": "Python 3",
   "language": "python",
   "name": "python3"
  },
  "language_info": {
   "codemirror_mode": {
    "name": "ipython",
    "version": 3
   },
   "file_extension": ".py",
   "mimetype": "text/x-python",
   "name": "python",
   "nbconvert_exporter": "python",
   "pygments_lexer": "ipython3",
   "version": "3.8.5"
  }
 },
 "nbformat": 4,
 "nbformat_minor": 4
}
