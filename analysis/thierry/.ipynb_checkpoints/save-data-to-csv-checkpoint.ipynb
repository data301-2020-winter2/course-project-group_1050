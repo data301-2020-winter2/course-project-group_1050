{
 "cells": [
  {
   "cell_type": "code",
   "execution_count": 1,
   "id": "limited-worship",
   "metadata": {},
   "outputs": [
    {
     "name": "stdout",
     "output_type": "stream",
     "text": [
      "C:\\Users\\t_mar\\Documents\\school stuff\\UBCO year 1\\DATA 301\\course-project-group_1050\\analysis\n"
     ]
    }
   ],
   "source": [
    "# Load data\n",
    "import os\n",
    "import pandas as pd\n",
    "import numpy as np\n",
    "import seaborn as sns\n",
    "import matplotlib.pyplot as plt\n",
    "path_parent = os.path.dirname(os.getcwd())\n",
    "os.chdir(path_parent)\n",
    "print(os.getcwd())\n",
    "from thierry.project_functions import load_and_process \n",
    "path = \"data/raw/AirQualityUCI.csv\"\n",
    "df = load_and_process(path)"
   ]
  },
  {
   "cell_type": "code",
   "execution_count": 4,
   "id": "protective-miracle",
   "metadata": {},
   "outputs": [],
   "source": [
    "df.to_csv(r'C:\\Users\\t_mar\\Documents\\school stuff\\UBCO year 1\\DATA 301\\course-project-group_1050\\data\\processed\\processed.csv')"
   ]
  },
  {
   "cell_type": "code",
   "execution_count": null,
   "id": "exempt-grenada",
   "metadata": {},
   "outputs": [],
   "source": []
  }
 ],
 "metadata": {
  "kernelspec": {
   "display_name": "Python 3",
   "language": "python",
   "name": "python3"
  },
  "language_info": {
   "codemirror_mode": {
    "name": "ipython",
    "version": 3
   },
   "file_extension": ".py",
   "mimetype": "text/x-python",
   "name": "python",
   "nbconvert_exporter": "python",
   "pygments_lexer": "ipython3",
   "version": "3.8.5"
  }
 },
 "nbformat": 4,
 "nbformat_minor": 5
}
