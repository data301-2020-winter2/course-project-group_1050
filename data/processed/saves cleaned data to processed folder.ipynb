{
 "cells": [
  {
   "cell_type": "code",
   "execution_count": 1,
   "id": "mighty-lancaster",
   "metadata": {},
   "outputs": [
    {
     "name": "stdout",
     "output_type": "stream",
     "text": [
      "C:\\Users\\ryan\\Desktop\\301 git\\course-project-group_1050\\data\\processed\n",
      "C:\\Users\\ryan\\Desktop\\301 git\\course-project-group_1050\\data\\processed\n",
      "C:\\Users\\ryan\\Desktop\\301 git\\course-project-group_1050\n"
     ]
    }
   ],
   "source": [
    "import os\n",
    "import pandas as pd\n",
    "import numpy as np\n",
    "import seaborn as sns\n",
    "import matplotlib.pyplot as plt\n",
    "print(os.getcwd())\n",
    "path_parent = os.path.dirname(os.getcwd())\n",
    "print(os.getcwd())\n",
    "os.chdir(path_parent)\n",
    "path_parent = os.path.dirname(os.getcwd())\n",
    "os.chdir(path_parent)\n",
    "path_parent = os.path.dirname(os.getcwd())\n",
    "path_parent = os.path.dirname(os.getcwd())\n",
    "print(os.getcwd())\n",
    "\n",
    "\n",
    "from analysis.scripts.project_functions import load_and_process \n",
    "\n",
    "df = load_and_process('https://raw.githubusercontent.com/data301-2020-winter2/course-project-group_1050/main/data/raw/AirQualityUCI.csv')\n",
    "df\n",
    "df.to_csv('data/processed/cleanData.cvs')"
   ]
  },
  {
   "cell_type": "code",
   "execution_count": null,
   "id": "alert-switzerland",
   "metadata": {},
   "outputs": [],
   "source": []
  }
 ],
 "metadata": {
  "kernelspec": {
   "display_name": "Python 3",
   "language": "python",
   "name": "python3"
  },
  "language_info": {
   "codemirror_mode": {
    "name": "ipython",
    "version": 3
   },
   "file_extension": ".py",
   "mimetype": "text/x-python",
   "name": "python",
   "nbconvert_exporter": "python",
   "pygments_lexer": "ipython3",
   "version": "3.8.5"
  }
 },
 "nbformat": 4,
 "nbformat_minor": 5
}
